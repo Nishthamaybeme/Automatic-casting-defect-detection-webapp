{
  "nbformat": 4,
  "nbformat_minor": 0,
  "metadata": {
    "colab": {
      "provenance": [],
      "gpuType": "T4",
      "authorship_tag": "ABX9TyMb66Y3zqRX4MEJigwirqHP",
      "include_colab_link": true
    },
    "kernelspec": {
      "name": "python3",
      "display_name": "Python 3"
    },
    "language_info": {
      "name": "python"
    },
    "accelerator": "GPU"
  },
  "cells": [
    {
      "cell_type": "markdown",
      "metadata": {
        "id": "view-in-github",
        "colab_type": "text"
      },
      "source": [
        "<a href=\"https://colab.research.google.com/github/Nishthamaybeme/Automatic-casting-defect-detection-webapp/blob/main/vision_transformer.ipynb\" target=\"_parent\"><img src=\"https://colab.research.google.com/assets/colab-badge.svg\" alt=\"Open In Colab\"/></a>"
      ]
    },
    {
      "cell_type": "code",
      "source": [
        " from google.colab import drive\n",
        "drive.mount('/content/drive')\n"
      ],
      "metadata": {
        "id": "zCWH4KMC589E",
        "colab": {
          "base_uri": "https://localhost:8080/"
        },
        "outputId": "2230072b-8bff-42f2-dbec-54e725c5e45d"
      },
      "execution_count": null,
      "outputs": [
        {
          "output_type": "stream",
          "name": "stdout",
          "text": [
            "Mounted at /content/drive\n"
          ]
        }
      ]
    },
    {
      "cell_type": "code",
      "source": [
        "#new code\n",
        "# Step 1: Import necessary libraries\n",
        "import tensorflow as tf\n",
        "from tensorflow.keras.preprocessing.image import ImageDataGenerator\n",
        "import os\n",
        "\n",
        "# Step 2: Set the path to your data\n",
        "base_path = '/content/drive/MyDrive/crime game/casting_data/casting_data'\n",
        "train_dir = '/content/drive/MyDrive/crime game/casting_data/casting_data/train'\n",
        "test_dir = '/content/drive/MyDrive/crime game/casting_data/casting_data/test (1)'\n",
        "\n",
        "# Step 3: Define image size and batch size\n",
        "IMG_SIZE = (224, 224)  # Image size for ViT\n",
        "BATCH_SIZE = 32\n",
        "\n",
        "# Step 4: Data Augmentation and Loading\n",
        "train_datagen = ImageDataGenerator(\n",
        "    rescale=1.0/255,    # Normalize pixel values between 0 and 1\n",
        "    rotation_range=20,  # Random rotations for data augmentation\n",
        "    width_shift_range=0.2,  # Shift the image horizontally\n",
        "    height_shift_range=0.2,  # Shift the image vertically\n",
        "    shear_range=0.2,   # Shear the image\n",
        "    zoom_range=0.2,    # Random zoom\n",
        "    horizontal_flip=True,  # Flip the image horizontally\n",
        "    fill_mode='nearest'  # Fill missing pixels after transformations\n",
        ")\n",
        "\n",
        "test_datagen = ImageDataGenerator(rescale=1.0/255)  # Only rescaling for test set\n",
        "\n",
        "# Step 5: Create Data Generators for training and testing\n",
        "train_generator = train_datagen.flow_from_directory(\n",
        "    train_dir,  # Path to the training directory\n",
        "    target_size=IMG_SIZE,  # Resize all images to the target size (224x224)\n",
        "    batch_size=BATCH_SIZE,\n",
        "    class_mode='binary',  # Binary classification, use 'categorical' for more than 2 classes\n",
        "    shuffle=True  # Shuffle data for better generalization\n",
        ")\n",
        "\n",
        "test_generator = test_datagen.flow_from_directory(\n",
        "    test_dir,  # Path to the testing directory\n",
        "    target_size=IMG_SIZE,  # Resize all images to the target size (224x224)\n",
        "    batch_size=BATCH_SIZE,\n",
        "    class_mode='binary',  # Binary classification\n",
        "    shuffle=False  # Do not shuffle for evaluation\n",
        ")\n",
        "\n",
        "# Step 6: Display class indices for reference\n",
        "print(\"Class Indices:\", train_generator.class_indices)\n"
      ],
      "metadata": {
        "colab": {
          "base_uri": "https://localhost:8080/"
        },
        "id": "bTKWcu7efiev",
        "outputId": "710cdf1e-9c3e-4bf4-b833-032308ecb7e9"
      },
      "execution_count": null,
      "outputs": [
        {
          "output_type": "stream",
          "name": "stdout",
          "text": [
            "Found 4077 images belonging to 2 classes.\n",
            "Found 715 images belonging to 2 classes.\n",
            "Class Indices: {'def_front': 0, 'ok_front (1)': 1}\n"
          ]
        }
      ]
    },
    {
      "cell_type": "code",
      "source": [
        "import os\n",
        "import shutil\n",
        "import random\n",
        "\n",
        "# Function to perform oversampling and undersampling\n",
        "def balance_dataset(train_def_path, train_ok_path, target_dir):\n",
        "    # Define the target path for balanced dataset\n",
        "    balanced_train_def_path = os.path.join(target_dir, 'def_front')\n",
        "    balanced_train_ok_path = os.path.join(target_dir, 'ok_front')\n",
        "\n",
        "    # Create directories for the balanced dataset\n",
        "    os.makedirs(balanced_train_def_path, exist_ok=True)\n",
        "    os.makedirs(balanced_train_ok_path, exist_ok=True)\n",
        "\n",
        "    # List all the files in the directories\n",
        "    def_front_images = os.listdir(train_def_path)\n",
        "    ok_front_images = os.listdir(train_ok_path)\n",
        "\n",
        "    # Number of samples in each class\n",
        "    num_def_front = len(def_front_images)\n",
        "    num_ok_front = len(ok_front_images)\n",
        "\n",
        "    # Oversample the minority class (ok_front)\n",
        "    if num_ok_front < num_def_front:\n",
        "        # Calculate how many more images we need for ok_front\n",
        "        oversample_count = num_def_front - num_ok_front\n",
        "\n",
        "        # Randomly duplicate ok_front images to match the number of def_front images\n",
        "        oversampled_ok_front_images = random.choices(ok_front_images, k=oversample_count)\n",
        "\n",
        "        # Copy oversampled images to the balanced dataset directory\n",
        "        for img in oversampled_ok_front_images:\n",
        "            shutil.copy(os.path.join(train_ok_path, img), balanced_train_ok_path)\n",
        "\n",
        "    # Undersample the majority class (def_front)\n",
        "    if num_ok_front < num_def_front:\n",
        "        # Randomly select a subset of def_front images to match the number of ok_front images\n",
        "        undersample_count = num_ok_front\n",
        "\n",
        "        # Randomly select images from def_front\n",
        "        undersampled_def_front_images = random.sample(def_front_images, undersample_count)\n",
        "\n",
        "        # Copy the selected images to the balanced dataset directory\n",
        "        for img in undersampled_def_front_images:\n",
        "            shutil.copy(os.path.join(train_def_path, img), balanced_train_def_path)\n",
        "\n",
        "    print(f\"Balanced training data: def_front = {len(os.listdir(balanced_train_def_path))}, ok_front = {len(os.listdir(balanced_train_ok_path))}\")\n",
        "\n",
        "# Balance the dataset by oversampling and undersampling\n",
        "balanced_train_dir = '/content/drive/MyDrive/crime game/casting_data/casting_data/train_balanced'\n",
        "balance_dataset(train_def_path, train_ok_path, balanced_train_dir)\n"
      ],
      "metadata": {
        "colab": {
          "base_uri": "https://localhost:8080/"
        },
        "id": "zGF07aG5w-ec",
        "outputId": "6d84c3ed-854c-4cc4-8939-44d40702cc93"
      },
      "execution_count": null,
      "outputs": [
        {
          "output_type": "stream",
          "name": "stdout",
          "text": [
            "Balanced training data: def_front = 709, ok_front = 689\n"
          ]
        }
      ]
    },
    {
      "cell_type": "code",
      "source": [
        "import os\n",
        "import timm  # Vision Transformer (ViT) models\n",
        "import torch\n",
        "import torch.nn as nn\n",
        "import torchvision.transforms as transforms\n",
        "from torch.utils.data import DataLoader\n",
        "from torchvision import datasets\n",
        "from sklearn.metrics import classification_report, confusion_matrix\n",
        "import matplotlib.pyplot as plt\n",
        "\n",
        "# Check if GPU is available\n",
        "device = torch.device(\"cuda\" if torch.cuda.is_available() else \"cpu\")\n",
        "print(f\"Using device: {device}\")\n",
        "\n",
        "# Define data transformations\n",
        "transform = transforms.Compose([\n",
        "    transforms.Resize((224, 224)),  # Resize images for ViT\n",
        "    transforms.ToTensor(),         # Convert images to PyTorch tensors\n",
        "    transforms.Normalize(mean=[0.5, 0.5, 0.5], std=[0.5, 0.5, 0.5])  # Normalize\n",
        "])\n",
        "\n",
        "# Update dataset paths for the balanced dataset\n",
        "train_dataset = datasets.ImageFolder(root=balanced_train_dir, transform=transform)\n",
        "test_dataset = datasets.ImageFolder(root=test_dir, transform=transform)\n",
        "\n",
        "# Create data loaders for balanced dataset\n",
        "train_loader = DataLoader(train_dataset, batch_size=32, shuffle=True, num_workers=2)\n",
        "test_loader = DataLoader(test_dataset, batch_size=32, shuffle=False, num_workers=2)\n",
        "\n",
        "# Print class indices\n",
        "print(f\"Class Indices: {train_dataset.class_to_idx}\")\n",
        "\n",
        "# Load a pre-trained Vision Transformer (ViT) model\n",
        "model = timm.create_model('vit_base_patch16_224', pretrained=True)\n",
        "num_features = model.head.in_features\n",
        "model.head = nn.Linear(num_features, 2)  # Two output classes (def_front, ok_front)\n",
        "model = model.to(device)\n",
        "\n",
        "# Define loss function and optimizer\n",
        "criterion = nn.CrossEntropyLoss()\n",
        "optimizer = torch.optim.Adam(model.parameters(), lr=0.0001)\n",
        "\n",
        "# Training the model\n",
        "epochs = 10\n",
        "for epoch in range(epochs):\n",
        "    model.train()\n",
        "    running_loss = 0.0\n",
        "    for images, labels in train_loader:\n",
        "        images, labels = images.to(device), labels.to(device)\n",
        "\n",
        "        optimizer.zero_grad()\n",
        "        outputs = model(images)\n",
        "        loss = criterion(outputs, labels)\n",
        "        loss.backward()\n",
        "        optimizer.step()\n",
        "\n",
        "        running_loss += loss.item()\n",
        "\n",
        "    print(f\"Epoch {epoch+1}/{epochs}, Loss: {running_loss/len(train_loader):.4f}\")\n",
        "\n",
        "# Evaluate the model\n",
        "model.eval()\n",
        "all_preds = []\n",
        "all_labels = []\n",
        "\n",
        "with torch.no_grad():\n",
        "    for images, labels in test_loader:\n",
        "        images, labels = images.to(device), labels.to(device)\n",
        "        outputs = model(images)\n",
        "        _, preds = torch.max(outputs, 1)\n",
        "        all_preds.extend(preds.cpu().numpy())\n",
        "        all_labels.extend(labels.cpu().numpy())\n",
        "\n",
        "# Classification report\n",
        "print(classification_report(all_labels, all_preds, target_names=train_dataset.classes))\n",
        "\n",
        "# Confusion matrix\n",
        "conf_matrix = confusion_matrix(all_labels, all_preds)\n",
        "plt.figure(figsize=(6, 6))\n",
        "plt.imshow(conf_matrix, cmap='Blues')\n",
        "plt.title(\"Confusion Matrix\")\n",
        "plt.colorbar()\n",
        "plt.xticks(range(2), train_dataset.classes, rotation=45)\n",
        "plt.yticks(range(2), train_dataset.classes)\n",
        "plt.xlabel(\"Predicted\")\n",
        "plt.ylabel(\"Actual\")\n",
        "plt.show()\n",
        "\n"
      ],
      "metadata": {
        "id": "8HeQXSGkw-3C",
        "colab": {
          "base_uri": "https://localhost:8080/",
          "height": 1000
        },
        "outputId": "f5e1a4b9-8325-4784-b40a-7a32d79a80e9"
      },
      "execution_count": null,
      "outputs": [
        {
          "output_type": "stream",
          "name": "stdout",
          "text": [
            "Using device: cuda\n",
            "Class Indices: {'def_front': 0, 'ok_front': 1}\n",
            "Epoch 1/10, Loss: 0.5401\n",
            "Epoch 2/10, Loss: 0.1074\n",
            "Epoch 3/10, Loss: 0.0484\n",
            "Epoch 4/10, Loss: 0.0903\n",
            "Epoch 5/10, Loss: 0.0440\n",
            "Epoch 6/10, Loss: 0.0198\n",
            "Epoch 7/10, Loss: 0.0269\n",
            "Epoch 8/10, Loss: 0.0165\n",
            "Epoch 9/10, Loss: 0.0172\n",
            "Epoch 10/10, Loss: 0.0120\n",
            "              precision    recall  f1-score   support\n",
            "\n",
            "   def_front       0.86      0.98      0.92       453\n",
            "    ok_front       0.96      0.72      0.83       262\n",
            "\n",
            "    accuracy                           0.89       715\n",
            "   macro avg       0.91      0.85      0.87       715\n",
            "weighted avg       0.90      0.89      0.88       715\n",
            "\n"
          ]
        },
        {
          "output_type": "display_data",
          "data": {
            "text/plain": [
              "<Figure size 600x600 with 2 Axes>"
            ],
            "image/png": "[encoded data removed]"
          },
          "metadata": {}
        },
        {
          "output_type": "error",
          "ename": "RuntimeError",
          "evalue": "Parent directory /path/to/save does not exist.",
          "traceback": [
            "\u001b[0;31m---------------------------------------------------------------------------\u001b[0m",
            "\u001b[0;31mRuntimeError\u001b[0m                              Traceback (most recent call last)",
            "\u001b[0;32m<ipython-input-32-bfd9e68e5e14>\u001b[0m in \u001b[0;36m<cell line: 90>\u001b[0;34m()\u001b[0m\n\u001b[1;32m     88\u001b[0m \u001b[0;31m# Save the model\u001b[0m\u001b[0;34m\u001b[0m\u001b[0;34m\u001b[0m\u001b[0m\n\u001b[1;32m     89\u001b[0m \u001b[0mmodel_save_path\u001b[0m \u001b[0;34m=\u001b[0m \u001b[0;34m\"/path/to/save/model.pth\"\u001b[0m\u001b[0;34m\u001b[0m\u001b[0;34m\u001b[0m\u001b[0m\n\u001b[0;32m---> 90\u001b[0;31m \u001b[0mtorch\u001b[0m\u001b[0;34m.\u001b[0m\u001b[0msave\u001b[0m\u001b[0;34m(\u001b[0m\u001b[0mmodel\u001b[0m\u001b[0;34m.\u001b[0m\u001b[0mstate_dict\u001b[0m\u001b[0;34m(\u001b[0m\u001b[0;34m)\u001b[0m\u001b[0;34m,\u001b[0m \u001b[0mmodel_save_path\u001b[0m\u001b[0;34m)\u001b[0m\u001b[0;34m\u001b[0m\u001b[0;34m\u001b[0m\u001b[0m\n\u001b[0m\u001b[1;32m     91\u001b[0m \u001b[0mprint\u001b[0m\u001b[0;34m(\u001b[0m\u001b[0;34mf\"Model saved to {model_save_path}\"\u001b[0m\u001b[0;34m)\u001b[0m\u001b[0;34m\u001b[0m\u001b[0;34m\u001b[0m\u001b[0m\n\u001b[1;32m     92\u001b[0m \u001b[0;34m\u001b[0m\u001b[0m\n",
            "\u001b[0;32m/usr/local/lib/python3.10/dist-packages/torch/serialization.py\u001b[0m in \u001b[0;36msave\u001b[0;34m(obj, f, pickle_module, pickle_protocol, _use_new_zipfile_serialization, _disable_byteorder_record)\u001b[0m\n\u001b[1;32m    847\u001b[0m \u001b[0;34m\u001b[0m\u001b[0m\n\u001b[1;32m    848\u001b[0m     \u001b[0;32mif\u001b[0m \u001b[0m_use_new_zipfile_serialization\u001b[0m\u001b[0;34m:\u001b[0m\u001b[0;34m\u001b[0m\u001b[0;34m\u001b[0m\u001b[0m\n\u001b[0;32m--> 849\u001b[0;31m         \u001b[0;32mwith\u001b[0m \u001b[0m_open_zipfile_writer\u001b[0m\u001b[0;34m(\u001b[0m\u001b[0mf\u001b[0m\u001b[0;34m)\u001b[0m \u001b[0;32mas\u001b[0m \u001b[0mopened_zipfile\u001b[0m\u001b[0;34m:\u001b[0m\u001b[0;34m\u001b[0m\u001b[0;34m\u001b[0m\u001b[0m\n\u001b[0m\u001b[1;32m    850\u001b[0m             _save(\n\u001b[1;32m    851\u001b[0m                 \u001b[0mobj\u001b[0m\u001b[0;34m,\u001b[0m\u001b[0;34m\u001b[0m\u001b[0;34m\u001b[0m\u001b[0m\n",
            "\u001b[0;32m/usr/local/lib/python3.10/dist-packages/torch/serialization.py\u001b[0m in \u001b[0;36m_open_zipfile_writer\u001b[0;34m(name_or_buffer)\u001b[0m\n\u001b[1;32m    714\u001b[0m     \u001b[0;32melse\u001b[0m\u001b[0;34m:\u001b[0m\u001b[0;34m\u001b[0m\u001b[0;34m\u001b[0m\u001b[0m\n\u001b[1;32m    715\u001b[0m         \u001b[0mcontainer\u001b[0m \u001b[0;34m=\u001b[0m \u001b[0m_open_zipfile_writer_buffer\u001b[0m\u001b[0;34m\u001b[0m\u001b[0;34m\u001b[0m\u001b[0m\n\u001b[0;32m--> 716\u001b[0;31m     \u001b[0;32mreturn\u001b[0m \u001b[0mcontainer\u001b[0m\u001b[0;34m(\u001b[0m\u001b[0mname_or_buffer\u001b[0m\u001b[0;34m)\u001b[0m\u001b[0;34m\u001b[0m\u001b[0;34m\u001b[0m\u001b[0m\n\u001b[0m\u001b[1;32m    717\u001b[0m \u001b[0;34m\u001b[0m\u001b[0m\n\u001b[1;32m    718\u001b[0m \u001b[0;34m\u001b[0m\u001b[0m\n",
            "\u001b[0;32m/usr/local/lib/python3.10/dist-packages/torch/serialization.py\u001b[0m in \u001b[0;36m__init__\u001b[0;34m(self, name)\u001b[0m\n\u001b[1;32m    685\u001b[0m             \u001b[0msuper\u001b[0m\u001b[0;34m(\u001b[0m\u001b[0;34m)\u001b[0m\u001b[0;34m.\u001b[0m\u001b[0m__init__\u001b[0m\u001b[0;34m(\u001b[0m\u001b[0mtorch\u001b[0m\u001b[0;34m.\u001b[0m\u001b[0m_C\u001b[0m\u001b[0;34m.\u001b[0m\u001b[0mPyTorchFileWriter\u001b[0m\u001b[0;34m(\u001b[0m\u001b[0mself\u001b[0m\u001b[0;34m.\u001b[0m\u001b[0mfile_stream\u001b[0m\u001b[0;34m)\u001b[0m\u001b[0;34m)\u001b[0m\u001b[0;34m\u001b[0m\u001b[0;34m\u001b[0m\u001b[0m\n\u001b[1;32m    686\u001b[0m         \u001b[0;32melse\u001b[0m\u001b[0;34m:\u001b[0m\u001b[0;34m\u001b[0m\u001b[0;34m\u001b[0m\u001b[0m\n\u001b[0;32m--> 687\u001b[0;31m             \u001b[0msuper\u001b[0m\u001b[0;34m(\u001b[0m\u001b[0;34m)\u001b[0m\u001b[0;34m.\u001b[0m\u001b[0m__init__\u001b[0m\u001b[0;34m(\u001b[0m\u001b[0mtorch\u001b[0m\u001b[0;34m.\u001b[0m\u001b[0m_C\u001b[0m\u001b[0;34m.\u001b[0m\u001b[0mPyTorchFileWriter\u001b[0m\u001b[0;34m(\u001b[0m\u001b[0mself\u001b[0m\u001b[0;34m.\u001b[0m\u001b[0mname\u001b[0m\u001b[0;34m)\u001b[0m\u001b[0;34m)\u001b[0m\u001b[0;34m\u001b[0m\u001b[0;34m\u001b[0m\u001b[0m\n\u001b[0m\u001b[1;32m    688\u001b[0m \u001b[0;34m\u001b[0m\u001b[0m\n\u001b[1;32m    689\u001b[0m     \u001b[0;32mdef\u001b[0m \u001b[0m__exit__\u001b[0m\u001b[0;34m(\u001b[0m\u001b[0mself\u001b[0m\u001b[0;34m,\u001b[0m \u001b[0;34m*\u001b[0m\u001b[0margs\u001b[0m\u001b[0;34m)\u001b[0m \u001b[0;34m->\u001b[0m \u001b[0;32mNone\u001b[0m\u001b[0;34m:\u001b[0m\u001b[0;34m\u001b[0m\u001b[0;34m\u001b[0m\u001b[0m\n",
            "\u001b[0;31mRuntimeError\u001b[0m: Parent directory /path/to/save does not exist."
          ]
        }
      ]
    },
    {
      "cell_type": "code",
      "source": [
        "import os\n",
        "\n",
        "# Define the model save path\n",
        "model_save_path = \"/content/drive/MyDrive/crime_game_model.pth\"\n",
        "\n",
        "# Ensure the parent directory exists\n",
        "os.makedirs(os.path.dirname(model_save_path), exist_ok=True)\n",
        "\n",
        "# Save the model\n",
        "torch.save(model.state_dict(), model_save_path)\n",
        "print(f\"Model saved to {model_save_path}\")\n"
      ],
      "metadata": {
        "colab": {
          "base_uri": "https://localhost:8080/"
        },
        "id": "vvgIthDU04Im",
        "outputId": "c5dad437-df4c-46bc-eb4f-9d44a4398897"
      },
      "execution_count": null,
      "outputs": [
        {
          "output_type": "stream",
          "name": "stdout",
          "text": [
            "Model saved to /content/drive/MyDrive/crime_game_model.pth\n"
          ]
        }
      ]
    },
    {
      "cell_type": "code",
      "source": [
        "from PIL import Image\n",
        "import torch\n",
        "from torchvision import transforms\n",
        "import matplotlib.pyplot as plt\n",
        "import os\n",
        "import timm  # Vision Transformer (ViT) models\n",
        "import torch\n",
        "import torch.nn as nn\n",
        "import torchvision.transforms as transforms\n",
        "from torch.utils.data import DataLoader\n",
        "from torchvision import datasets\n",
        "from sklearn.metrics import classification_report, confusion_matrix\n",
        "import matplotlib.pyplot as plt\n",
        "# Path to the saved model and the custom image\n",
        "model_save_path = \"/content/drive/MyDrive/crime_game_model.pth\"  # Update this path\n",
        "custom_image_path = \"/content/drive/MyDrive/crime game/casting_data/casting_data/_G5P6LlrpKv.jpg\"  # Update with your image path\n",
        "\n",
        "# Load the trained model\n",
        "model = timm.create_model('vit_base_patch16_224', pretrained=False)\n",
        "num_features = model.head.in_features\n",
        "model.head = nn.Linear(num_features, 2)  # Two output classes (def_front, ok_front)\n",
        "model.load_state_dict(torch.load(model_save_path))\n",
        "model.eval()\n",
        "\n",
        "# Preprocess the image\n",
        "transform = transforms.Compose([\n",
        "    transforms.Resize((224, 224)),\n",
        "    transforms.ToTensor(),\n",
        "    transforms.Normalize(mean=[0.5, 0.5, 0.5], std=[0.5, 0.5, 0.5])\n",
        "])\n",
        "\n",
        "image = Image.open(custom_image_path).convert(\"RGB\")\n",
        "input_tensor = transform(image).unsqueeze(0)  # Add batch dimension\n",
        "\n",
        "# Predict the class\n",
        "with torch.no_grad():\n",
        "    outputs = model(input_tensor)\n",
        "    _, predicted_class = torch.max(outputs, 1)\n",
        "\n",
        "# Map class index to label\n",
        "class_labels = [\"def_front\", \"ok_front\"]\n",
        "predicted_label = class_labels[predicted_class.item()]\n",
        "\n",
        "# Display the image and prediction\n",
        "plt.imshow(image)\n",
        "plt.title(f\"Predicted Class: {predicted_label}\")\n",
        "plt.axis(\"off\")\n",
        "plt.show()\n"
      ],
      "metadata": {
        "id": "MdXEPh608dtB"
      },
      "execution_count": null,
      "outputs": []
    },
    {
      "cell_type": "code",
      "source": [
        "# Replace with the correct path to your model in Drive\n",
        "!cp /content/drive/MyDrive/crime_game_model.pth\n"
      ],
      "metadata": {
        "colab": {
          "base_uri": "https://localhost:8080/"
        },
        "id": "Tgchu0p-Ap5W",
        "outputId": "d5dfcdae-bfa8-4822-882d-818997134658"
      },
      "execution_count": null,
      "outputs": [
        {
          "output_type": "stream",
          "name": "stdout",
          "text": [
            "cp: missing destination file operand after '/content/drive/MyDrive/crime_game_model.pth'\n",
            "Try 'cp --help' for more information.\n"
          ]
        }
      ]
    },
    {
      "cell_type": "code",
      "source": [
        "!git clone https://github.com/Nishthamaybeme/automatic-casting-defect-detection-webapp.git\n"
      ],
      "metadata": {
        "colab": {
          "base_uri": "https://localhost:8080/"
        },
        "id": "FSaows09ETok",
        "outputId": "3041f712-2b1a-487d-ea64-c9bd917d24ba"
      },
      "execution_count": null,
      "outputs": [
        {
          "output_type": "stream",
          "name": "stdout",
          "text": [
            "Cloning into 'automatic-casting-defect-detection-webapp'...\n",
            "remote: Enumerating objects: 9, done.\u001b[K\n",
            "remote: Counting objects: 100% (9/9), done.\u001b[K\n",
            "remote: Compressing objects: 100% (6/6), done.\u001b[K\n",
            "remote: Total 9 (delta 1), reused 0 (delta 0), pack-reused 0 (from 0)\u001b[K\n",
            "Receiving objects: 100% (9/9), done.\n",
            "Resolving deltas: 100% (1/1), done.\n"
          ]
        }
      ]
    },
    {
      "cell_type": "code",
      "source": [
        "!cp https://colab.research.google.com/drive/1iuicv4SRbq2h63F4ZmSSgPnx1g2Fyssg?usp=sharing\\/vision_transformer.ipynb /content/automatic-casting-defect-detection-webapp/\n"
      ],
      "metadata": {
        "colab": {
          "base_uri": "https://localhost:8080/"
        },
        "id": "ew8gCHkqE4Df",
        "outputId": "801b10e4-e510-4d84-8e11-b8ffb7207a05"
      },
      "execution_count": null,
      "outputs": [
        {
          "output_type": "stream",
          "name": "stdout",
          "text": [
            "cp: cannot stat 'https://colab.research.google.com/drive/1iuicv4SRbq2h63F4ZmSSgPnx1g2Fyssg?usp=sharing/vision_transformer.ipynb': No such file or directory\n"
          ]
        }
      ]
    }
  ]
}